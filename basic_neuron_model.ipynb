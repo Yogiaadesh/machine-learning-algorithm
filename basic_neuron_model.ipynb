{
  "nbformat": 4,
  "nbformat_minor": 0,
  "metadata": {
    "colab": {
      "provenance": [],
      "authorship_tag": "ABX9TyMQTXrpz5//KgnVzVTGcoTq",
      "include_colab_link": true
    },
    "kernelspec": {
      "name": "python3",
      "display_name": "Python 3"
    },
    "language_info": {
      "name": "python"
    }
  },
  "cells": [
    {
      "cell_type": "markdown",
      "metadata": {
        "id": "view-in-github",
        "colab_type": "text"
      },
      "source": [
        "<a href=\"https://colab.research.google.com/github/Yogiaadesh/machine-learning-algorithm/blob/main/basic_neuron_model.ipynb\" target=\"_parent\"><img src=\"https://colab.research.google.com/assets/colab-badge.svg\" alt=\"Open In Colab\"/></a>"
      ]
    },
    {
      "cell_type": "code",
      "execution_count": null,
      "metadata": {
        "id": "cXWNLrQUnGHD"
      },
      "outputs": [],
      "source": [
        "import numpy as np\n",
        "def activation_function(x):\n",
        "  if x>0:\n",
        "    return 1\n",
        "  else:\n",
        "    return 0"
      ]
    },
    {
      "cell_type": "code",
      "source": [
        "def neuron_model(weights, input, bias):\n",
        "  model = np.add(np.dot(inputs, weights),bias)\n",
        "  output = activation_function(model)\n",
        "  return output"
      ],
      "metadata": {
        "id": "U3oq-dIFoDWj"
      },
      "execution_count": null,
      "outputs": []
    },
    {
      "cell_type": "code",
      "source": [
        "weights = np.array([0.5, 0.25, -0.8])\n",
        "inputs = np.array([0.1, 0.5, 0.6])\n",
        "bias = 0.1\n",
        "output = neuron_model(weights, input, bias)\n",
        "print(\"the output of the neuron model is: {output}\")"
      ],
      "metadata": {
        "colab": {
          "base_uri": "https://localhost:8080/"
        },
        "id": "EOuR8ImIo3f1",
        "outputId": "d41c9bb6-faad-4065-c79f-cfe5a086af02"
      },
      "execution_count": null,
      "outputs": [
        {
          "output_type": "stream",
          "name": "stdout",
          "text": [
            "the output of the neuron model is: {output}\n"
          ]
        }
      ]
    }
  ]
}